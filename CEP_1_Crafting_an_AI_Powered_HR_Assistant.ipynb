{
 "cells": [
  {
   "cell_type": "markdown",
   "metadata": {
    "id": "-QZjx03reMU5"
   },
   "source": [
    "#Import the required libraries\n",
    "\n",
    "\n"
   ]
  },
  {
   "cell_type": "code",
   "execution_count": null,
   "metadata": {
    "id": "jddSFp3j_hAs"
   },
   "outputs": [],
   "source": [
    "from langchain_community.vectorstores import Chroma\n",
    "from langchain.embeddings import OpenAIEmbeddings\n",
    "from langchain.text_splitter import RecursiveCharacterTextSplitter\n",
    "from langchain.llms import OpenAI\n",
    "from langchain.chains import VectorDBQA, RetrievalQA\n",
    "from langchain_openai import ChatOpenAI\n",
    "from langchain.document_loaders import TextLoader, PyPDFLoader\n",
    "import openai\n",
    "import os\n",
    "from dotenv import load_dotenv\n",
    "load_dotenv()"
   ]
  },
  {
   "cell_type": "markdown",
   "metadata": {
    "id": "VUCYUMnLgvJ5"
   },
   "source": [
    "# Loading Documents\n"
   ]
  },
  {
   "cell_type": "code",
   "execution_count": null,
   "metadata": {
    "id": "9S0HlZhW_ofN"
   },
   "outputs": [],
   "source": [
    "loader = PyPDFLoader('https://www.nestle.com/sites/default/files/asset-library/documents/jobs/the_nestle_hr_policy_pdf_2012.pdf')\n",
    "documents = loader.load()\n",
    "\n",
    "# initialize the text splitter\n",
    "text_splitter = RecursiveCharacterTextSplitter(\n",
    "    chunk_size=1000, # Maximum size of each chunk\n",
    "    chunk_overlap=200 # Overlap between chunks to preserve context\n",
    ")\n",
    "\n",
    "# Split the loaded documents\n",
    "split_documents = text_splitter.split_documents(documents)\n",
    "\n",
    "# verify the split documents\n",
    "print(f\"Number of split documents: {len(split_documents)}\")\n",
    "# preview the last 3 chunks\n",
    "for i, doc in enumerate(split_documents[-3:]):  # Preview last 3 chunks\n",
    "    print(f\"Chunk {i+1}: {doc.page_content[:200]}...\")  # Print first 200 characters of each chunk\n"
   ]
  },
  {
   "cell_type": "markdown",
   "metadata": {
    "id": "oH5NQqp_in_T"
   },
   "source": [
    " # Creating Vector Representation of Texts"
   ]
  },
  {
   "cell_type": "code",
   "execution_count": null,
   "metadata": {
    "colab": {
     "base_uri": "https://localhost:8080/"
    },
    "id": "_5bY_6TK_yFC",
    "outputId": "b509cdcd-f683-474d-fe5b-e9a253f9ba99"
   },
   "outputs": [],
   "source": [
    "# text_splitter = RecursiveCharacterTextSplitter(chunk_size=1000, chunk_overlap=0)\n",
    "# number of chunks for cheaper embedding\n",
    "text_splitter = RecursiveCharacterTextSplitter(chunk_size=1000, chunk_overlap=200)\n",
    "texts = text_splitter.split_documents(documents)\n",
    "embeddings = OpenAIEmbeddings()\n",
    "vectordb = Chroma.from_documents(texts, embeddings)\n",
    "retriever = vectordb.as_retriever(search_kwargs={\"k\": 3})\n",
    "llm = ChatOpenAI(model_name=\"gpt-3.5-turbo\", temperature=0)\n",
    "qa = RetrievalQA.from_chain_type(\n",
    "    llm=llm,\n",
    "    chain_type=\"stuff\",\n",
    "    retriever=retriever,\n",
    "    return_source_documents=True\n",
    ")\n",
    "\n",
    "\n"
   ]
  },
  {
   "cell_type": "markdown",
   "metadata": {
    "id": "-2CP1tCAiyTS"
   },
   "source": [
    "# Setting Up Question-Answering System"
   ]
  },
  {
   "cell_type": "code",
   "execution_count": null,
   "metadata": {
    "id": "JKMZGJeWi17S"
   },
   "outputs": [],
   "source": [
    "qa = RetrievalQA.from_chain_type(llm=ChatOpenAI(model_name=\"gpt-3.5-turbo\"), chain_type=\"stuff\", retriever=vectordb.as_retriever())\n",
    "query = \"When was the Nestlé HR Policy last updated?\"\n",
    "\n",
    "result = qa.invoke(query)\n",
    "print(\"Query:\", query)\n",
    "print(\"Answer:\", result['result'])\n",
    "\n"
   ]
  },
  {
   "cell_type": "markdown",
   "metadata": {
    "id": "fVU8cmrSi6Da"
   },
   "source": [
    "# Defining Prompt Template"
   ]
  },
  {
   "cell_type": "code",
   "execution_count": null,
   "metadata": {
    "id": "M4CETG52_0yR"
   },
   "outputs": [],
   "source": [
    "from langchain import PromptTemplate\n",
    "\n",
    "# Define the prompt template in English\n",
    "template = \"\"\"\n",
    "I am a HR helpful assistant. Please answer the following question in English.\n",
    "Question: {question}\n",
    "Answer:\n",
    "\"\"\"\n",
    "\n",
    "# Create the PromptTemplate instance with the modified English template\n",
    "prompt = PromptTemplate(\n",
    "    input_variables=[\"question\"],\n",
    "    template=template,\n",
    ")\n",
    "\n",
    "\n"
   ]
  },
  {
   "cell_type": "markdown",
   "metadata": {
    "id": "APP-VcVNjG6C"
   },
   "source": [
    "#  Building Chat Interface with Gradio and Launching the Chat Interface"
   ]
  },
  {
   "cell_type": "code",
   "execution_count": null,
   "metadata": {},
   "outputs": [],
   "source": [
    "import gradio as gr\n",
    "\n",
    "def add_text(history, text):\n",
    "    # Add user message\n",
    "    history = history + [{\"role\": \"user\", \"content\": text}]\n",
    "    return history, \"\"\n",
    "\n",
    "def bot(history):\n",
    "    # Get the latest user query\n",
    "    query = history[-1][\"content\"]\n",
    "    query = prompt.format(question=query)\n",
    "    answer = qa.run(query)\n",
    "\n",
    "    # Append bot response instead of replacing user\n",
    "    history = history + [{\"role\": \"assistant\", \"content\": answer}]\n",
    "    return history\n",
    "\n",
    "with gr.Blocks() as demo:\n",
    "    chatbot = gr.Chatbot(\n",
    "        value=[],\n",
    "        elem_id=\"chatbot\",\n",
    "        type=\"messages\",\n",
    "        height=400\n",
    "    )\n",
    "\n",
    "    with gr.Row():\n",
    "        with gr.Column(scale=0.6):\n",
    "            txt = gr.Textbox(\n",
    "                show_label=False,\n",
    "                placeholder=\"Enter text and press enter\",\n",
    "                container=False\n",
    "            )\n",
    "\n",
    "    txt.submit(add_text, [chatbot, txt], [chatbot, txt]).then(\n",
    "        bot, chatbot, chatbot\n",
    "    )\n",
    "\n",
    "demo.launch(share=True)\n"
   ]
  },
  {
   "cell_type": "code",
   "execution_count": null,
   "metadata": {
    "id": "i5EZK-XPCwxt"
   },
   "outputs": [],
   "source": []
  }
 ],
 "metadata": {
  "colab": {
   "provenance": []
  },
  "kernelspec": {
   "display_name": "Python 3",
   "language": "python",
   "name": "python3"
  },
  "language_info": {
   "codemirror_mode": {
    "name": "ipython",
    "version": 3
   },
   "file_extension": ".py",
   "mimetype": "text/x-python",
   "name": "python",
   "nbconvert_exporter": "python",
   "pygments_lexer": "ipython3",
   "version": "3.11.3"
  }
 },
 "nbformat": 4,
 "nbformat_minor": 4
}
